{
 "cells": [
  {
   "cell_type": "markdown",
   "id": "f3d15398",
   "metadata": {},
   "source": [
    "# The Spark Foundation - GRIP - Data Science and Business Analytics - OCT2021\n",
    "\n",
    " \n",
    "# Task2:- From the 'Iris' dataset, predict the optimum number of clusters and represent it visually.\n",
    "\n",
    "## Author : Niraj Sabale\n"
   ]
  },
  {
   "cell_type": "markdown",
   "id": "12cba877",
   "metadata": {},
   "source": [
    "### Step 1:- Import the lybraries"
   ]
  },
  {
   "cell_type": "code",
   "execution_count": 1,
   "id": "00ab9a13",
   "metadata": {},
   "outputs": [],
   "source": [
    "import numpy as np\n",
    "import pandas as pd\n",
    "import matplotlib.pyplot as plt\n",
    "from sklearn.datasets import load_iris"
   ]
  },
  {
   "cell_type": "markdown",
   "id": "222a42c1",
   "metadata": {},
   "source": [
    "### Step 2:- Reading csv file and converting it into dataframe"
   ]
  },
  {
   "cell_type": "code",
   "execution_count": 2,
   "id": "9ffbb265",
   "metadata": {},
   "outputs": [
    {
     "data": {
      "text/html": [
       "<div>\n",
       "<style scoped>\n",
       "    .dataframe tbody tr th:only-of-type {\n",
       "        vertical-align: middle;\n",
       "    }\n",
       "\n",
       "    .dataframe tbody tr th {\n",
       "        vertical-align: top;\n",
       "    }\n",
       "\n",
       "    .dataframe thead th {\n",
       "        text-align: right;\n",
       "    }\n",
       "</style>\n",
       "<table border=\"1\" class=\"dataframe\">\n",
       "  <thead>\n",
       "    <tr style=\"text-align: right;\">\n",
       "      <th></th>\n",
       "      <th>sepal length (cm)</th>\n",
       "      <th>sepal width (cm)</th>\n",
       "      <th>petal length (cm)</th>\n",
       "      <th>petal width (cm)</th>\n",
       "    </tr>\n",
       "  </thead>\n",
       "  <tbody>\n",
       "    <tr>\n",
       "      <th>0</th>\n",
       "      <td>5.1</td>\n",
       "      <td>3.5</td>\n",
       "      <td>1.4</td>\n",
       "      <td>0.2</td>\n",
       "    </tr>\n",
       "    <tr>\n",
       "      <th>1</th>\n",
       "      <td>4.9</td>\n",
       "      <td>3.0</td>\n",
       "      <td>1.4</td>\n",
       "      <td>0.2</td>\n",
       "    </tr>\n",
       "    <tr>\n",
       "      <th>2</th>\n",
       "      <td>4.7</td>\n",
       "      <td>3.2</td>\n",
       "      <td>1.3</td>\n",
       "      <td>0.2</td>\n",
       "    </tr>\n",
       "    <tr>\n",
       "      <th>3</th>\n",
       "      <td>4.6</td>\n",
       "      <td>3.1</td>\n",
       "      <td>1.5</td>\n",
       "      <td>0.2</td>\n",
       "    </tr>\n",
       "    <tr>\n",
       "      <th>4</th>\n",
       "      <td>5.0</td>\n",
       "      <td>3.6</td>\n",
       "      <td>1.4</td>\n",
       "      <td>0.2</td>\n",
       "    </tr>\n",
       "    <tr>\n",
       "      <th>5</th>\n",
       "      <td>5.4</td>\n",
       "      <td>3.9</td>\n",
       "      <td>1.7</td>\n",
       "      <td>0.4</td>\n",
       "    </tr>\n",
       "    <tr>\n",
       "      <th>6</th>\n",
       "      <td>4.6</td>\n",
       "      <td>3.4</td>\n",
       "      <td>1.4</td>\n",
       "      <td>0.3</td>\n",
       "    </tr>\n",
       "  </tbody>\n",
       "</table>\n",
       "</div>"
      ],
      "text/plain": [
       "   sepal length (cm)  sepal width (cm)  petal length (cm)  petal width (cm)\n",
       "0                5.1               3.5                1.4               0.2\n",
       "1                4.9               3.0                1.4               0.2\n",
       "2                4.7               3.2                1.3               0.2\n",
       "3                4.6               3.1                1.5               0.2\n",
       "4                5.0               3.6                1.4               0.2\n",
       "5                5.4               3.9                1.7               0.4\n",
       "6                4.6               3.4                1.4               0.3"
      ]
     },
     "execution_count": 2,
     "metadata": {},
     "output_type": "execute_result"
    }
   ],
   "source": [
    "data = load_iris()\n",
    "data_df = pd.DataFrame(data.data, columns= data.feature_names)\n",
    "data_df.head(7) #prining top 7 rows of dastaset"
   ]
  },
  {
   "cell_type": "code",
   "execution_count": 3,
   "id": "69df480c",
   "metadata": {},
   "outputs": [
    {
     "data": {
      "text/plain": [
       "2"
      ]
     },
     "execution_count": 3,
     "metadata": {},
     "output_type": "execute_result"
    }
   ],
   "source": [
    "x = data_df[['sepal length (cm)' , 'sepal width (cm)' ,'petal length (cm)' ,'petal width (cm)' ]].values\n",
    "x.ndim"
   ]
  },
  {
   "cell_type": "code",
   "execution_count": 4,
   "id": "5190333f",
   "metadata": {},
   "outputs": [
    {
     "data": {
      "text/plain": [
       "numpy.ndarray"
      ]
     },
     "execution_count": 4,
     "metadata": {},
     "output_type": "execute_result"
    }
   ],
   "source": [
    "type(x)"
   ]
  },
  {
   "cell_type": "markdown",
   "id": "9114a9c0",
   "metadata": {},
   "source": [
    "### Step3:- importing KMeans Algo "
   ]
  },
  {
   "cell_type": "code",
   "execution_count": 5,
   "id": "bb353741",
   "metadata": {},
   "outputs": [],
   "source": [
    "from sklearn.cluster import KMeans"
   ]
  },
  {
   "cell_type": "markdown",
   "id": "95abf7f2",
   "metadata": {},
   "source": [
    "#### we will get the values from 1 to 10 and will find the optimum number of clusters using KMeans Clustering Algorith"
   ]
  },
  {
   "cell_type": "code",
   "execution_count": 6,
   "id": "a2f837f6",
   "metadata": {},
   "outputs": [],
   "source": [
    "inertia=[]\n",
    "for i in range(1,16) :\n",
    "    Kmeans = KMeans(n_clusters = i, init = 'k-means++', max_iter = 350, n_init = 15, random_state =0)\n",
    "    Kmeans.fit(x)\n",
    "    inertia.append(Kmeans.inertia_)"
   ]
  },
  {
   "cell_type": "markdown",
   "id": "79e6f212",
   "metadata": {},
   "source": [
    "### Step4 :- Plotting the inertia values with values of k to get a visualisation"
   ]
  },
  {
   "cell_type": "code",
   "execution_count": 7,
   "id": "4c883008",
   "metadata": {},
   "outputs": [
    {
     "data": {
      "image/png": "[encoded data removed]",
      "text/plain": [
       "<Figure size 432x288 with 1 Axes>"
      ]
     },
     "metadata": {
      "needs_background": "light"
     },
     "output_type": "display_data"
    }
   ],
   "source": [
    "plt.plot(range(1,16),inertia)\n",
    "plt.xlabel('K - Value')\n",
    "plt.ylabel('Inertia value')\n",
    "plt.title('Elbow Method')\n",
    "plt.show()"
   ]
  },
  {
   "cell_type": "markdown",
   "id": "e5a0c963",
   "metadata": {},
   "source": [
    "#### From the above graph we can clearly see why it is called as elbow method.\n",
    "\n",
    "#### we saw the sudden decrease in value from  start and after 3 the change is almost constat that the optimum value of K is 3.\n",
    "#### Thus we take K=3 for our calculations"
   ]
  },
  {
   "cell_type": "markdown",
   "id": "950cecfe",
   "metadata": {},
   "source": [
    "### step 4:-Applying values ok K as 3"
   ]
  },
  {
   "cell_type": "code",
   "execution_count": 8,
   "id": "d2de132c",
   "metadata": {},
   "outputs": [],
   "source": [
    "Kmeans = KMeans(n_clusters = 3, init = 'k-means++', max_iter = 350, n_init = 15, random_state =0)\n",
    "y=Kmeans.fit_predict(x)"
   ]
  },
  {
   "cell_type": "markdown",
   "id": "f6a213e9",
   "metadata": {},
   "source": [
    "### Step5:- Plot the cluster"
   ]
  },
  {
   "cell_type": "code",
   "execution_count": 9,
   "id": "23abac98",
   "metadata": {},
   "outputs": [
    {
     "data": {
      "image/png": "[encoded data removed]",
      "text/plain": [
       "<Figure size 432x288 with 1 Axes>"
      ]
     },
     "metadata": {
      "needs_background": "light"
     },
     "output_type": "display_data"
    }
   ],
   "source": [
    "plt.scatter(data_df['petal length (cm)'], data_df['petal width (cm)'], c=data.target)\n",
    "plt.xlabel('petal length (cm)')\n",
    "plt.ylabel('petal width (cm)')\n",
    "plt.show()"
   ]
  },
  {
   "cell_type": "code",
   "execution_count": 10,
   "id": "b1d91b86",
   "metadata": {},
   "outputs": [
    {
     "data": {
      "image/png": "[encoded data removed]",
      "text/plain": [
       "<Figure size 432x288 with 1 Axes>"
      ]
     },
     "metadata": {
      "needs_background": "light"
     },
     "output_type": "display_data"
    }
   ],
   "source": [
    "plt.scatter(data_df['sepal length (cm)'], data_df['sepal width (cm)'], c=data.target)\n",
    "plt.xlabel('sepal length (cm)')\n",
    "plt.ylabel('sepal width (cm)')\n",
    "#plotting the centroids\n",
    "plt.scatter(Kmeans.cluster_centers_[:,0], Kmeans.cluster_centers_[:,1], s=100, c ='black',label='Centroids' )\n",
    "plt.show()"
   ]
  },
  {
   "cell_type": "markdown",
   "id": "3c88e1a4",
   "metadata": {},
   "source": [
    "### Conclusion : For the iris dataset the optimal value of k is 3.\n",
    "\n",
    "### Task 2 Completed. Thanks for watching.\n",
    "### please share the thoughts on the work in comments"
   ]
  }
 ],
 "metadata": {
  "kernelspec": {
   "display_name": "Python 3",
   "language": "python",
   "name": "python3"
  },
  "language_info": {
   "codemirror_mode": {
    "name": "ipython",
    "version": 3
   },
   "file_extension": ".py",
   "mimetype": "text/x-python",
   "name": "python",
   "nbconvert_exporter": "python",
   "pygments_lexer": "ipython3",
   "version": "3.9.5"
  }
 },
 "nbformat": 4,
 "nbformat_minor": 5
}
